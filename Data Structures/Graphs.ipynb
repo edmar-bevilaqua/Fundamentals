{
 "cells": [
  {
   "cell_type": "markdown",
   "metadata": {},
   "source": [
    "# GRAPHS\n",
    "---\n",
    "Graphs are a fundamental data structure, used to model relationships between entities. They consist of vertices (or nodes) and edges (or links) that connect pairs of vertices."
   ]
  },
  {
   "cell_type": "markdown",
   "metadata": {},
   "source": [
    "## Key Concepts\n",
    "\n",
    "1. **Vertices (Nodes)**: The individual elements or points in a graph.\n",
    "2. **Edges (Links)**: The connections between pairs of vertices. Edges can be:\n",
    "   - **Directed**: The edge has a direction (e.g., from vertex A to vertex B).\n",
    "   - **Undirected**: The edge has no direction (e.g., a bidirectional link between vertices A and B).\n",
    "3. **Weighted vs. Unweighted**: \n",
    "   - **Weighted Graphs**: Edges have associated weights or costs.\n",
    "   - **Unweighted Graphs**: All edges are equal, without weights.\n",
    "4. **Adjacency List**: A way to represent a graph where each vertex stores a list of adjacent vertices.\n",
    "5. **Adjacency Matrix**: A 2D array where each cell (i, j) indicates if there's an edge from vertex `i` to vertex `j`.\n",
    "\n",
    "## Common Graph Algorithms\n",
    "\n",
    "1. **Depth-First Search (DFS)**: Traverses as far as possible along each branch before backtracking.\n",
    "2. **Breadth-First Search (BFS)**: Explores the neighbor nodes at the present depth prior to moving on to nodes at the next depth level.\n",
    "3. **Dijkstra's Algorithm**: Finds the shortest path between nodes in a graph, which may represent, for example, road networks."
   ]
  },
  {
   "cell_type": "code",
   "execution_count": 2,
   "metadata": {},
   "outputs": [
    {
     "name": "stdout",
     "output_type": "stream",
     "text": [
      "{0: [(1, 4), (2, 1)], 1: [(3, 1)], 2: [(1, 2), (3, 5)], 3: [(4, 3)], 4: []}\n",
      "Shortest distances from vertex 0:\n",
      "{0: 0, 1: 3, 2: 1, 3: 4, 4: 7}\n"
     ]
    }
   ],
   "source": [
    "import heapq # Priority Queue\n",
    "\n",
    "class Graph:\n",
    "    def __init__(self):\n",
    "        self.graph = {}\n",
    "\n",
    "    def add_edge(self, u, v, weight):\n",
    "        if u not in self.graph:\n",
    "            self.graph[u] = []\n",
    "        if v not in self.graph:\n",
    "            self.graph[v] = []  # Ensure that v is also in the graph even if it has no outgoing edges\n",
    "        self.graph[u].append((v, weight))\n",
    "\n",
    "    def dijkstra(self, start):\n",
    "        # Initialize the priority queue\n",
    "        pq = [(0, start)]\n",
    "        # Initialize the distances dictionary\n",
    "        distances = {vertex: float('infinity') for vertex in self.graph}\n",
    "        distances[start] = 0\n",
    "        # Set to track visited nodes\n",
    "        visited = set()\n",
    "\n",
    "        while pq:\n",
    "            # Get the node with the smallest distance\n",
    "            current_distance, current_vertex = heapq.heappop(pq)\n",
    "            \n",
    "            if current_vertex in visited:\n",
    "                continue\n",
    "\n",
    "            visited.add(current_vertex)\n",
    "\n",
    "            for neighbor, weight in self.graph[current_vertex]:\n",
    "                distance = current_distance + weight\n",
    "                \n",
    "                # Only consider this new path if it's better\n",
    "                if distance < distances[neighbor]:\n",
    "                    distances[neighbor] = distance\n",
    "                    heapq.heappush(pq, (distance, neighbor))\n",
    "\n",
    "        return distances\n",
    "\n",
    "# Create a graph instance\n",
    "g = Graph()\n",
    "g.add_edge(0, 1, 4)\n",
    "g.add_edge(0, 2, 1)\n",
    "g.add_edge(2, 1, 2)\n",
    "g.add_edge(1, 3, 1)\n",
    "g.add_edge(2, 3, 5)\n",
    "g.add_edge(3, 4, 3)\n",
    "\n",
    "# Print the graph representation\n",
    "print(g.graph)\n",
    "\n",
    "# Run Dijkstra's algorithm from vertex 0\n",
    "distances = g.dijkstra(0)\n",
    "print(\"Shortest distances from vertex 0:\")\n",
    "print(distances)\n",
    "\n"
   ]
  },
  {
   "cell_type": "code",
   "execution_count": null,
   "metadata": {},
   "outputs": [],
   "source": []
  }
 ],
 "metadata": {
  "kernelspec": {
   "display_name": "Python 3",
   "language": "python",
   "name": "python3"
  },
  "language_info": {
   "codemirror_mode": {
    "name": "ipython",
    "version": 3
   },
   "file_extension": ".py",
   "mimetype": "text/x-python",
   "name": "python",
   "nbconvert_exporter": "python",
   "pygments_lexer": "ipython3",
   "version": "3.12.4"
  }
 },
 "nbformat": 4,
 "nbformat_minor": 2
}
