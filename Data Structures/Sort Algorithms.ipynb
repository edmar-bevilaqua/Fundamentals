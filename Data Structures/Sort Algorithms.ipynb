{
 "cells": [
  {
   "cell_type": "markdown",
   "metadata": {},
   "source": [
    "# Sort Algorithms\n",
    "In this notebook we will cover and implement 3 of the main sorting algorithms:\n",
    "* Bubble Sort;\n",
    "* Merge Sort;\n",
    "* Quick Sort;"
   ]
  },
  {
   "cell_type": "markdown",
   "metadata": {},
   "source": [
    "## Bubble Sort\n",
    "---\n",
    "Bubble sort is a simple and straightforward sorting algorithm that repeatedly steps through the list, compares adjacent elements, and swaps them if they are in the wrong order. The process is repeated until the list is sorted. Here’s a breakdown of the main ideas behind bubble sort:\n",
    "\n",
    "### Main Ideas of Bubble Sort\n",
    "\n",
    "#### Comparison and Swap\n",
    "   - Compare each pair of adjacent elements.\n",
    "   - If the elements are in the wrong order (e.g., the first is greater than the second for ascending order), swap them.\n",
    "\n",
    "#### Multiple Passes:\n",
    "   - The process of comparison and swapping is repeated for multiple passes.\n",
    "   - Each pass through the list places the next largest (or smallest, depending on the order) element in its correct position.\n",
    "\n",
    "\n",
    "<br><br>\n",
    "\n",
    "### Characteristics of Bubble Sort\n",
    "\n",
    "#### Time Complexity\n",
    "  - Worst and average case: $O(n^2)$ (when the array is in reverse order).\n",
    "  - Best case: $O(n)$ (when the array is already sorted, with the optimized version).\n",
    "  - Bubble sort is generally not used for large datasets due to its inefficiency.\n",
    "\n",
    "#### Space Complexity\n",
    "  - $O(1)$ (in-place sorting).\n",
    "\n",
    "#### Stability\n",
    "  - Bubble sort is a stable sorting algorithm because it does not change the relative order of elements with equal keys."
   ]
  },
  {
   "cell_type": "code",
   "execution_count": 1,
   "metadata": {},
   "outputs": [],
   "source": [
    "### Implement the code here!\n",
    "\n",
    "def bubble_sort(data=list()):\n",
    "    # Iterate over all elements in the list\n",
    "    for i in range(0, len(data), 1):\n",
    "        # Iterate over (N - i - 1) elements -> Because at every iteration,\n",
    "        # the last value is already sorted, so (N - i). The (-1) is to avoid\n",
    "        # OutOfIndex Exception.\n",
    "        for j in range(0, len(data) - i - 1):\n",
    "            \n",
    "            # If the left value is greater than the right value, swap them.\n",
    "            if data[j] > data[j+1]:\n",
    "                data[j], data[j+1] = data[j+1], data[j]\n",
    "    return data"
   ]
  },
  {
   "cell_type": "markdown",
   "metadata": {},
   "source": [
    "Testing the above function"
   ]
  },
  {
   "cell_type": "code",
   "execution_count": 2,
   "metadata": {},
   "outputs": [
    {
     "name": "stdout",
     "output_type": "stream",
     "text": [
      "Random List: [22, 13, 14, 24, 33, 11, 7, 10, 8, 31, 9, 39, 30, 6, 12, 21, 15, 0, 36, 1, 5, 23, 25, 28, 29, 27, 32, 2, 38, 4, 35, 37, 34, 26, 3, 17, 18, 20, 19, 16]\n",
      "Sorted Random List: [0, 1, 2, 3, 4, 5, 6, 7, 8, 9, 10, 11, 12, 13, 14, 15, 16, 17, 18, 19, 20, 21, 22, 23, 24, 25, 26, 27, 28, 29, 30, 31, 32, 33, 34, 35, 36, 37, 38, 39]\n",
      "Execution time: 0.00100732 s\n"
     ]
    }
   ],
   "source": [
    "### Test the code here!\n",
    "import random\n",
    "import time\n",
    "\n",
    "randomlist = random.sample(range(40), 40)\n",
    "\n",
    "timenow = time.time()\n",
    "print(f\"Random List: {randomlist}\")\n",
    "print(f\"Sorted Random List: {bubble_sort(randomlist)}\")\n",
    "print(f\"Execution time: {time.time() - timenow:.8f} s\")"
   ]
  },
  {
   "cell_type": "markdown",
   "metadata": {},
   "source": [
    "#### Optimization for Bubble Sort\n",
    "   - An optimized version of bubble sort can stop early if, during a pass, no swaps are made, indicating that the list is already sorted."
   ]
  },
  {
   "cell_type": "code",
   "execution_count": 3,
   "metadata": {},
   "outputs": [],
   "source": [
    "### Implement the code here!\n",
    "\n",
    "def opt_bubble_sort(data=list()):\n",
    "    for i in range(0, len(data), 1):\n",
    "        swap = False\n",
    "        for j in range(0, len(data) - i - 1):\n",
    "            if data[j] > data[j+1]:\n",
    "                data[j], data[j+1] = data[j+1], data[j]\n",
    "                swap = True\n",
    "        if not swap:\n",
    "            return data\n",
    "    return data"
   ]
  },
  {
   "cell_type": "code",
   "execution_count": 4,
   "metadata": {},
   "outputs": [
    {
     "name": "stdout",
     "output_type": "stream",
     "text": [
      "Random List: [16, 13, 30, 36, 29, 27, 22, 23, 15, 37, 5, 12, 28, 34, 8, 21, 7, 38, 32, 9, 4, 33, 3, 18, 26, 25, 24, 10, 6, 17, 35, 19, 2, 31, 39, 20, 1, 11, 0, 14]\n",
      "Sorted Random List: [0, 1, 2, 3, 4, 5, 6, 7, 8, 9, 10, 11, 12, 13, 14, 15, 16, 17, 18, 19, 20, 21, 22, 23, 24, 25, 26, 27, 28, 29, 30, 31, 32, 33, 34, 35, 36, 37, 38, 39]\n",
      "Execution time: 0.00000000 s\n"
     ]
    }
   ],
   "source": [
    "### Test the code here!\n",
    "import random\n",
    "import time\n",
    "\n",
    "randomlist = random.sample(range(40), 40)\n",
    "\n",
    "timenow = time.time()\n",
    "print(f\"Random List: {randomlist}\")\n",
    "print(f\"Sorted Random List: {opt_bubble_sort(randomlist)}\")\n",
    "print(f\"Execution time: {time.time() - timenow:.8f} s\")"
   ]
  },
  {
   "cell_type": "markdown",
   "metadata": {},
   "source": [
    "## Merge Sort\n",
    "Merge sort is a more advanced sorting algorithm that follows the divide-and-conquer paradigm. It divides the input array into two halves, recursively sorts each half, and then merges the two sorted halves back together.\n",
    "\n",
    "### Main Ideas of Merge Sort\n",
    "\n",
    "#### Divide:\n",
    "   - Divide the unsorted list into two approximately equal halves.\n",
    "\n",
    "#### Conquer (Recursion):\n",
    "   - Recursively sort both halves. If the list has only one element, it is already sorted.\n",
    "\n",
    "#### Combine (Merge):\n",
    "   - Merge the two sorted halves into a single sorted list.\n",
    "\n",
    "<br><br>\n",
    "\n",
    "### Characteristics of Merge Sort\n",
    "\n",
    "#### Time Complexity:\n",
    "  - Merge sort has a time complexity of $O(n \\log n)$ in all cases (worst, average, and best).\n",
    "\n",
    "#### Space Complexity:\n",
    "  - The space complexity is $O(n)$ because of the extra space used for the temporary arrays.\n",
    "\n",
    "#### Stability:\n",
    "  - Merge sort is a stable sorting algorithm, maintaining the relative order of equal elements.\n",
    "\n",
    "### Advantages and Disadvantages\n",
    "\n",
    "#### Advantages:\n",
    "  - Efficient for large datasets.\n",
    "  - Guarantees $O(n \\log n)$ time complexity.\n",
    "  - Stable sort.\n",
    "\n",
    "#### Disadvantages:\n",
    "  - Requires additional memory for the temporary arrays.\n",
    "  - Not an in-place sort; the extra space complexity is $O(n)$.\n",
    "\n",
    "Merge sort is widely used for sorting linked lists and external sorting (e.g., when data is too large to fit into memory). It is also a preferred sorting algorithm in situations where stability is required."
   ]
  },
  {
   "cell_type": "code",
   "execution_count": 5,
   "metadata": {},
   "outputs": [],
   "source": [
    "def mergeSort(data):\n",
    "    # Checking if the length of the data is greater than 1. if so, get middle value.\n",
    "    if len(data) > 1:\n",
    "        mid = len(data) // 2\n",
    "        \n",
    "        # Divide the elements in 2 halves:\n",
    "        left = data[:mid]\n",
    "        right = data[mid:]\n",
    "        \n",
    "        # Sort the first half\n",
    "        mergeSort(left)\n",
    "        \n",
    "        #Sort the second half\n",
    "        mergeSort(right)\n",
    "        \n",
    "        # REPEAT until every half is composed of 1 element\n",
    "        \n",
    "        i, j, k = 0, 0, 0\n",
    "        \n",
    "        # Copy data to temporary lists.\n",
    "        while i < len(left) and j < len(right):\n",
    "            if left[i] < right[j]:\n",
    "                data[k] = left[i]\n",
    "                i += 1\n",
    "            else:\n",
    "                data[k] = right[j]\n",
    "                j += 1\n",
    "            k += 1\n",
    "        \n",
    "        # Verifying if any element was left:\n",
    "        while i < len(left):\n",
    "            data[k] = left[i]\n",
    "            i += 1\n",
    "            k += 1\n",
    "            \n",
    "\n",
    "        # Verifying if any element was left:\n",
    "        while j < len(right):\n",
    "            data[k] = right[j]\n",
    "            j += 1\n",
    "            k += 1\n",
    "    return data"
   ]
  },
  {
   "cell_type": "markdown",
   "metadata": {},
   "source": [
    "Testing the above funtction"
   ]
  },
  {
   "cell_type": "code",
   "execution_count": 6,
   "metadata": {},
   "outputs": [
    {
     "name": "stdout",
     "output_type": "stream",
     "text": [
      "Random List: [14, 0, 6, 28, 24, 20, 8, 7, 18, 32, 19, 11, 36, 16, 3, 33, 27, 26, 39, 25, 37, 12, 34, 23, 22, 21, 4, 29, 5, 15, 30, 10, 13, 38, 17, 31, 35, 2, 1, 9]\n",
      "Sorted Random List: [0, 1, 2, 3, 4, 5, 6, 7, 8, 9, 10, 11, 12, 13, 14, 15, 16, 17, 18, 19, 20, 21, 22, 23, 24, 25, 26, 27, 28, 29, 30, 31, 32, 33, 34, 35, 36, 37, 38, 39]\n",
      "Execution time: 0.00000000 s\n"
     ]
    }
   ],
   "source": [
    "### Test the code here!\n",
    "import random\n",
    "import time\n",
    "\n",
    "randomlist = random.sample(range(40), 40)\n",
    "\n",
    "timenow = time.time()\n",
    "print(f\"Random List: {randomlist}\")\n",
    "print(f\"Sorted Random List: {mergeSort(randomlist)}\")\n",
    "print(f\"Execution time: {time.time() - timenow:.8f} s\")"
   ]
  },
  {
   "cell_type": "markdown",
   "metadata": {},
   "source": [
    "### Bubble Sort vs Merge Sort:"
   ]
  },
  {
   "cell_type": "code",
   "execution_count": 7,
   "metadata": {},
   "outputs": [
    {
     "name": "stdout",
     "output_type": "stream",
     "text": [
      "Execution time: 2.09803677 s\n",
      "\n",
      "\n",
      "Execution time: 0.01251078 s\n"
     ]
    }
   ],
   "source": [
    "import random\n",
    "import time\n",
    "\n",
    "randomlist = random.sample(range(7000), 7000)\n",
    "randomlist2 = randomlist.copy()\n",
    "\n",
    "timenow = time.time()\n",
    "randomlist = bubble_sort(randomlist)\n",
    "print(f\"Execution time: {time.time() - timenow:.8f} s\")\n",
    "\n",
    "print(end=\"\\n\\n\")\n",
    "\n",
    "timenow = time.time()\n",
    "randomlist2 =mergeSort(randomlist2)\n",
    "print(f\"Execution time: {time.time() - timenow:.8f} s\")"
   ]
  },
  {
   "cell_type": "markdown",
   "metadata": {},
   "source": [
    "## Quick Sort\n",
    "Quick Sort is a popular and efficient sorting algorithm that uses the divide-and-conquer strategy to sort elements. Here are the main ideas behind Quick Sort, along with a Python implementation:\n",
    "\n",
    "### Main Ideas\n",
    "\n",
    "#### Divide-and-Conquer:\n",
    "* Quick Sort divides the array into subarrays and sorts each subarray independently.\n",
    "#### Pivot Selection:\n",
    "* A pivot element is chosen from the array. The pivot can be any element, but common choices are the first element, the last element, the middle element, or a random element.\n",
    "#### Partitioning:\n",
    "* The array is rearranged so that all elements less than the pivot come before it, and all elements greater than the pivot come after it. This places the pivot in its correct sorted position.\n",
    "#### Recursion:\n",
    "* The same process is recursively applied to the subarrays formed by dividing the array at the pivot.\n",
    "\n",
    "<br><br>\n",
    "\n",
    "### Steps of Quick Sort\n",
    "\n",
    "* Choose a Pivot:\n",
    "    * Select an element from the array as the pivot.\n",
    "* Partition:\n",
    "    * Rearrange the elements in the array so that elements less than the pivot are on the left, elements greater than the pivot are on the right.\n",
    "* Recursively Apply:\n",
    "    * Apply the same process to the left and right subarrays.\n"
   ]
  },
  {
   "cell_type": "code",
   "execution_count": 8,
   "metadata": {},
   "outputs": [],
   "source": [
    "def quickSort(data):\n",
    "    def partitioning(first, last):\n",
    "        \n",
    "        # Selecting always the last element as the pivot !\n",
    "        pivot = data[last]\n",
    "        \n",
    "        # i = first - 1 because when data[j] <= pivot, i increases in 1\n",
    "        i = first - 1\n",
    "        # Iterate from first to last element compairing it to pivot\n",
    "        for j in range(first, last):\n",
    "            if data[j] <= pivot:\n",
    "                i += 1\n",
    "                # Swap data[i] with data[j], since data[j] is lesser or equal to pivot\n",
    "                data[i], data[j] = data[j], data[i]\n",
    "\n",
    "        # At the end of the loop, swap the pivot with the data[i + 1] element, guaranteeing the right position for the pivot\n",
    "        data[i + 1], data[last] = data[last], data[i + 1]\n",
    "        \n",
    "        # Return the position for the pivot\n",
    "        return i + 1\n",
    "    \n",
    "    def quickSortRecursive(first, last):\n",
    "        if first < last:\n",
    "            pivot_index = partitioning(first, last)\n",
    "            \n",
    "            # Recursively call the quickSortRecursive without passing the pivot as an element.\n",
    "            quickSortRecursive(first, pivot_index - 1)\n",
    "            quickSortRecursive(pivot_index + 1, last)\n",
    "    \n",
    "    # Enter the recursion\n",
    "    quickSortRecursive(0, len(data) - 1)\n",
    "    \n",
    "    # Return sorted data\n",
    "    return data"
   ]
  },
  {
   "cell_type": "markdown",
   "metadata": {},
   "source": [
    "Testing:"
   ]
  },
  {
   "cell_type": "code",
   "execution_count": 14,
   "metadata": {},
   "outputs": [
    {
     "name": "stdout",
     "output_type": "stream",
     "text": [
      "[42, 17, 28, 21, 11, 6, 43, 14, 18, 13, 31, 26, 41, 35, 7, 27, 3, 0, 1, 9, 12, 24, 45, 5, 36, 40, 33, 34, 49, 16, 10, 38, 20, 30, 8, 2, 19, 32, 48, 47, 22, 29, 46, 15, 39, 44, 23, 37, 4, 25]\n",
      "[0, 1, 2, 3, 4, 5, 6, 7, 8, 9, 10, 11, 12, 13, 14, 15, 16, 17, 18, 19, 20, 21, 22, 23, 24, 25, 26, 27, 28, 29, 30, 31, 32, 33, 34, 35, 36, 37, 38, 39, 40, 41, 42, 43, 44, 45, 46, 47, 48, 49]\n"
     ]
    }
   ],
   "source": [
    "data = random.sample(range(50), 50)\n",
    "print(data)\n",
    "data = quickSort(data)\n",
    "print(data)"
   ]
  },
  {
   "cell_type": "markdown",
   "metadata": {},
   "source": [
    "Implementing Quick Sort again, but now it always selects the first element as the pivot:"
   ]
  },
  {
   "cell_type": "code",
   "execution_count": 9,
   "metadata": {},
   "outputs": [],
   "source": [
    "def quickSortFirstElementAsPivot(data):\n",
    "    def partitioning(first, last):\n",
    "        \n",
    "        # Selecting always the last element as the pivot !\n",
    "        pivot = data[first]\n",
    "        \n",
    "        # i = first - 1 because when data[j] <= pivot, i increases in 1\n",
    "        i = last + 1\n",
    "        # Iterate from first to last element compairing it to pivot\n",
    "        for j in range(last, first, -1):\n",
    "            if data[j] >= pivot:\n",
    "                i -= 1\n",
    "                # Swap data[i] with data[j], since data[j] is greater or equal to pivot\n",
    "                data[i], data[j] = data[j], data[i]\n",
    "\n",
    "        # At the end of the loop, swap the pivot with the data[i + 1] element, guaranteeing the right position for the pivot\n",
    "        data[i - 1], data[first] = data[first], data[i - 1]\n",
    "        \n",
    "        # Return the position for the pivot\n",
    "        return i - 1\n",
    "    \n",
    "    def quickSortRecursive(first, last):\n",
    "        if first < last:\n",
    "            pivot_index = partitioning(first, last)\n",
    "            \n",
    "            # Recursively call the quickSortRecursive without passing the pivot as an element.\n",
    "            quickSortRecursive(first, pivot_index - 1)\n",
    "            quickSortRecursive(pivot_index + 1, last)\n",
    "    \n",
    "    # Enter the recursion\n",
    "    quickSortRecursive(0, len(data) - 1)\n",
    "    \n",
    "    # Return sorted data\n",
    "    return data"
   ]
  },
  {
   "cell_type": "markdown",
   "metadata": {},
   "source": [
    "Testing:"
   ]
  },
  {
   "cell_type": "code",
   "execution_count": 12,
   "metadata": {},
   "outputs": [
    {
     "name": "stdout",
     "output_type": "stream",
     "text": [
      "[19, 29, 25, 28, 45, 13, 41, 21, 16, 40, 47, 4, 42, 11, 37, 27, 5, 46, 34, 9, 23, 24, 26, 17, 33, 44, 8, 35, 18, 3, 22, 10, 12, 38, 30, 20, 49, 6, 2, 43, 36, 32, 1, 7, 0, 48, 31, 15, 39, 14]\n",
      "[0, 1, 2, 3, 4, 5, 6, 7, 8, 9, 10, 11, 12, 13, 14, 15, 16, 17, 18, 19, 20, 21, 22, 23, 24, 25, 26, 27, 28, 29, 30, 31, 32, 33, 34, 35, 36, 37, 38, 39, 40, 41, 42, 43, 44, 45, 46, 47, 48, 49]\n"
     ]
    }
   ],
   "source": [
    "data = random.sample(range(50), 50)\n",
    "print(data)\n",
    "data = quickSortFirstElementAsPivot(data)\n",
    "print(data)"
   ]
  },
  {
   "cell_type": "markdown",
   "metadata": {},
   "source": [
    "### Quick Sort vs Bubble Sort vs Merge Sort\n",
    "---"
   ]
  },
  {
   "cell_type": "code",
   "execution_count": 13,
   "metadata": {},
   "outputs": [
    {
     "name": "stdout",
     "output_type": "stream",
     "text": [
      "Bubble Sort execution time: 9.58008265 s\n",
      "Merge Sort execution time: 0.03053498 s\n",
      "Quick Sort execution time: 0.02152944 s\n"
     ]
    }
   ],
   "source": [
    "import random\n",
    "import time\n",
    "\n",
    "randomlist = random.sample(range(15000), 15000)\n",
    "randomlist2 = randomlist.copy()\n",
    "randomlist3 = randomlist.copy()\n",
    "\n",
    "timenow = time.time()\n",
    "randomlist = bubble_sort(randomlist)\n",
    "print(f\"Bubble Sort execution time: {time.time() - timenow:.8f} s\")\n",
    "\n",
    "timenow = time.time()\n",
    "randomlist2 =mergeSort(randomlist2)\n",
    "print(f\"Merge Sort execution time: {time.time() - timenow:.8f} s\")\n",
    "\n",
    "timenow = time.time()\n",
    "randomlist3 =quickSort(randomlist3)\n",
    "print(f\"Quick Sort execution time: {time.time() - timenow:.8f} s\")"
   ]
  },
  {
   "cell_type": "markdown",
   "metadata": {},
   "source": [
    "## Conclusion:\n",
    "---\n",
    "\n",
    "As you could see above, both Merge Sort and Quick Sort deals very well with large arrays / lists, but it has a price in memory. As this study is merely for educational purposes (problably you will never need to really implement a sorting algorithm, because most languages has it implemented), I'll leave the above implementations as they are, as I don't see the need for optimizations for this Python Notebook."
   ]
  }
 ],
 "metadata": {
  "kernelspec": {
   "display_name": "Python 3",
   "language": "python",
   "name": "python3"
  },
  "language_info": {
   "codemirror_mode": {
    "name": "ipython",
    "version": 3
   },
   "file_extension": ".py",
   "mimetype": "text/x-python",
   "name": "python",
   "nbconvert_exporter": "python",
   "pygments_lexer": "ipython3",
   "version": "3.11.7"
  }
 },
 "nbformat": 4,
 "nbformat_minor": 2
}
