{
 "cells": [
  {
   "cell_type": "markdown",
   "metadata": {},
   "source": [
    "# Sort Algorithms\n",
    "In this notebook we will cover and implement 3 of the main sorting algorithms:\n",
    "* Bubble Sort;\n",
    "* Merge Sort;\n",
    "* Quick Sort;"
   ]
  },
  {
   "cell_type": "markdown",
   "metadata": {},
   "source": [
    "## Bubble Sort\n",
    "---\n",
    "Bubble sort is a simple and straightforward sorting algorithm that repeatedly steps through the list, compares adjacent elements, and swaps them if they are in the wrong order. The process is repeated until the list is sorted. Here’s a breakdown of the main ideas behind bubble sort:\n",
    "\n",
    "### Main Ideas of Bubble Sort\n",
    "\n",
    "#### Comparison and Swap\n",
    "   - Compare each pair of adjacent elements.\n",
    "   - If the elements are in the wrong order (e.g., the first is greater than the second for ascending order), swap them.\n",
    "\n",
    "#### Multiple Passes:\n",
    "   - The process of comparison and swapping is repeated for multiple passes.\n",
    "   - Each pass through the list places the next largest (or smallest, depending on the order) element in its correct position.\n",
    "\n",
    "\n",
    "<br><br>\n",
    "\n",
    "### Characteristics of Bubble Sort\n",
    "\n",
    "#### Time Complexity\n",
    "  - Worst and average case: $O(n^2)$ (when the array is in reverse order).\n",
    "  - Best case: $O(n)$ (when the array is already sorted, with the optimized version).\n",
    "  - Bubble sort is generally not used for large datasets due to its inefficiency.\n",
    "\n",
    "#### Space Complexity\n",
    "  - $O(1)$ (in-place sorting).\n",
    "\n",
    "#### Stability\n",
    "  - Bubble sort is a stable sorting algorithm because it does not change the relative order of elements with equal keys."
   ]
  },
  {
   "cell_type": "code",
   "execution_count": 2,
   "metadata": {},
   "outputs": [],
   "source": [
    "### Implement the code here!\n",
    "\n",
    "def bubble_sort(data=list()):\n",
    "    # Iterate over all elements in the list\n",
    "    for i in range(0, len(data), 1):\n",
    "        # Iterate over (N - i - 1) elements -> Because at every iteration,\n",
    "        # the last value is already sorted, so (N - i). The (-1) is to avoid\n",
    "        # OutOfIndex Exception.\n",
    "        for j in range(0, len(data) - i - 1):\n",
    "            \n",
    "            # If the left value is greater than the right value, swap them.\n",
    "            if data[j] > data[j+1]:\n",
    "                data[j], data[j+1] = data[j+1], data[j]\n",
    "    return data"
   ]
  },
  {
   "cell_type": "markdown",
   "metadata": {},
   "source": [
    "Testing the above funtction"
   ]
  },
  {
   "cell_type": "code",
   "execution_count": 3,
   "metadata": {},
   "outputs": [
    {
     "name": "stdout",
     "output_type": "stream",
     "text": [
      "Random List: [31, 6, 11, 20, 4, 32, 24, 7, 37, 14, 8, 23, 36, 25, 33, 34, 1, 0, 38, 10, 28, 22, 26, 16, 39, 9, 18, 13, 12, 15, 19, 35, 3, 21, 29, 30, 27, 2, 5, 17]\n",
      "Sorted Random List: [0, 1, 2, 3, 4, 5, 6, 7, 8, 9, 10, 11, 12, 13, 14, 15, 16, 17, 18, 19, 20, 21, 22, 23, 24, 25, 26, 27, 28, 29, 30, 31, 32, 33, 34, 35, 36, 37, 38, 39]\n",
      "Execution time: 0.00000000 s\n"
     ]
    }
   ],
   "source": [
    "### Test the code here!\n",
    "import random\n",
    "import time\n",
    "\n",
    "randomlist = random.sample(range(40), 40)\n",
    "\n",
    "timenow = time.time()\n",
    "print(f\"Random List: {randomlist}\")\n",
    "print(f\"Sorted Random List: {bubble_sort(randomlist)}\")\n",
    "print(f\"Execution time: {time.time() - timenow:.8f} s\")"
   ]
  },
  {
   "cell_type": "markdown",
   "metadata": {},
   "source": [
    "#### Optimization for Bubble Sort\n",
    "   - An optimized version of bubble sort can stop early if, during a pass, no swaps are made, indicating that the list is already sorted."
   ]
  },
  {
   "cell_type": "code",
   "execution_count": 4,
   "metadata": {},
   "outputs": [],
   "source": [
    "### Implement the code here!\n",
    "\n",
    "def opt_bubble_sort(data=list()):\n",
    "    for i in range(0, len(data), 1):\n",
    "        swap = False\n",
    "        for j in range(0, len(data) - i - 1):\n",
    "            if data[j] > data[j+1]:\n",
    "                data[j], data[j+1] = data[j+1], data[j]\n",
    "                swap = True\n",
    "        if not swap:\n",
    "            return data\n",
    "    return data"
   ]
  },
  {
   "cell_type": "code",
   "execution_count": 5,
   "metadata": {},
   "outputs": [
    {
     "name": "stdout",
     "output_type": "stream",
     "text": [
      "Random List: [13, 37, 34, 24, 8, 26, 27, 22, 25, 30, 3, 14, 5, 29, 28, 10, 21, 18, 19, 9, 31, 12, 17, 1, 35, 4, 39, 7, 16, 11, 36, 33, 2, 23, 0, 20, 6, 38, 32, 15]\n",
      "Sorted Random List: [0, 1, 2, 3, 4, 5, 6, 7, 8, 9, 10, 11, 12, 13, 14, 15, 16, 17, 18, 19, 20, 21, 22, 23, 24, 25, 26, 27, 28, 29, 30, 31, 32, 33, 34, 35, 36, 37, 38, 39]\n",
      "Execution time: 0.00000000 s\n"
     ]
    }
   ],
   "source": [
    "### Test the code here!\n",
    "import random\n",
    "import time\n",
    "\n",
    "randomlist = random.sample(range(40), 40)\n",
    "\n",
    "timenow = time.time()\n",
    "print(f\"Random List: {randomlist}\")\n",
    "print(f\"Sorted Random List: {opt_bubble_sort(randomlist)}\")\n",
    "print(f\"Execution time: {time.time() - timenow:.8f} s\")"
   ]
  },
  {
   "cell_type": "markdown",
   "metadata": {},
   "source": [
    "## Merge Sort\n",
    "Merge sort is a more advanced sorting algorithm that follows the divide-and-conquer paradigm. It divides the input array into two halves, recursively sorts each half, and then merges the two sorted halves back together.\n",
    "\n",
    "### Main Ideas of Merge Sort\n",
    "\n",
    "#### Divide:\n",
    "   - Divide the unsorted list into two approximately equal halves.\n",
    "\n",
    "#### Conquer (Recursion):\n",
    "   - Recursively sort both halves. If the list has only one element, it is already sorted.\n",
    "\n",
    "#### Combine (Merge):\n",
    "   - Merge the two sorted halves into a single sorted list.\n",
    "\n",
    "<br><br>\n",
    "\n",
    "### Characteristics of Merge Sort\n",
    "\n",
    "#### Time Complexity:\n",
    "  - Merge sort has a time complexity of $O(n \\log n)$ in all cases (worst, average, and best).\n",
    "\n",
    "#### Space Complexity:\n",
    "  - The space complexity is $O(n)$ because of the extra space used for the temporary arrays.\n",
    "\n",
    "#### Stability:\n",
    "  - Merge sort is a stable sorting algorithm, maintaining the relative order of equal elements.\n",
    "\n",
    "### Advantages and Disadvantages\n",
    "\n",
    "#### Advantages:\n",
    "  - Efficient for large datasets.\n",
    "  - Guarantees $O(n \\log n)$ time complexity.\n",
    "  - Stable sort.\n",
    "\n",
    "#### Disadvantages:\n",
    "  - Requires additional memory for the temporary arrays.\n",
    "  - Not an in-place sort; the extra space complexity is $O(n)$.\n",
    "\n",
    "Merge sort is widely used for sorting linked lists and external sorting (e.g., when data is too large to fit into memory). It is also a preferred sorting algorithm in situations where stability is required."
   ]
  },
  {
   "cell_type": "code",
   "execution_count": 6,
   "metadata": {},
   "outputs": [],
   "source": [
    "def mergeSort(data):\n",
    "    # Checking if the length of the data is greater than 1. if so, get middle value.\n",
    "    if len(data) > 1:\n",
    "        mid = len(data) // 2\n",
    "        \n",
    "        # Divide the elements in 2 halves:\n",
    "        left = data[:mid]\n",
    "        right = data[mid:]\n",
    "        \n",
    "        # Sort the first half\n",
    "        mergeSort(left)\n",
    "        \n",
    "        #Sort the second half\n",
    "        mergeSort(right)\n",
    "        \n",
    "        # REPEAT until every half is composed of 1 element\n",
    "        \n",
    "        i, j, k = 0, 0, 0\n",
    "        \n",
    "        # Copy data to temporary lists.\n",
    "        while i < len(left) and j < len(right):\n",
    "            if left[i] < right[j]:\n",
    "                data[k] = left[i]\n",
    "                i += 1\n",
    "            else:\n",
    "                data[k] = right[j]\n",
    "                j += 1\n",
    "            k += 1\n",
    "        \n",
    "        # Verifying if any element was left:\n",
    "        while i < len(left):\n",
    "            data[k] = left[i]\n",
    "            i += 1\n",
    "            k += 1\n",
    "            \n",
    "\n",
    "        # Verifying if any element was left:\n",
    "        while j < len(right):\n",
    "            data[k] = right[j]\n",
    "            j += 1\n",
    "            k += 1\n",
    "    return data"
   ]
  },
  {
   "cell_type": "markdown",
   "metadata": {},
   "source": [
    "Testing the above funtction"
   ]
  },
  {
   "cell_type": "code",
   "execution_count": 7,
   "metadata": {},
   "outputs": [
    {
     "name": "stdout",
     "output_type": "stream",
     "text": [
      "Random List: [24, 1, 38, 19, 15, 17, 22, 36, 27, 31, 5, 6, 0, 28, 9, 2, 26, 20, 37, 33, 3, 11, 7, 30, 10, 21, 13, 12, 32, 35, 4, 16, 23, 14, 8, 34, 18, 25, 29, 39]\n",
      "Sorted Random List: [0, 1, 2, 3, 4, 5, 6, 7, 8, 9, 10, 11, 12, 13, 14, 15, 16, 17, 18, 19, 20, 21, 22, 23, 24, 25, 26, 27, 28, 29, 30, 31, 32, 33, 34, 35, 36, 37, 38, 39]\n",
      "Execution time: 0.00051546 s\n"
     ]
    }
   ],
   "source": [
    "### Test the code here!\n",
    "import random\n",
    "import time\n",
    "\n",
    "randomlist = random.sample(range(40), 40)\n",
    "\n",
    "timenow = time.time()\n",
    "print(f\"Random List: {randomlist}\")\n",
    "print(f\"Sorted Random List: {mergeSort(randomlist)}\")\n",
    "print(f\"Execution time: {time.time() - timenow:.8f} s\")"
   ]
  },
  {
   "cell_type": "markdown",
   "metadata": {},
   "source": [
    "### Bubble Sort vs Merge Sort:"
   ]
  },
  {
   "cell_type": "code",
   "execution_count": 8,
   "metadata": {},
   "outputs": [
    {
     "name": "stdout",
     "output_type": "stream",
     "text": [
      "Execution time: 2.07946205 s\n",
      "\n",
      "\n",
      "Execution time: 0.01646972 s\n"
     ]
    }
   ],
   "source": [
    "import random\n",
    "import time\n",
    "\n",
    "randomlist = random.sample(range(7000), 7000)\n",
    "randomlist2 = randomlist.copy()\n",
    "\n",
    "timenow = time.time()\n",
    "randomlist = bubble_sort(randomlist)\n",
    "print(f\"Execution time: {time.time() - timenow:.8f} s\")\n",
    "\n",
    "print(end=\"\\n\\n\")\n",
    "\n",
    "timenow = time.time()\n",
    "randomlist2 =mergeSort(randomlist2)\n",
    "print(f\"Execution time: {time.time() - timenow:.8f} s\")"
   ]
  },
  {
   "cell_type": "markdown",
   "metadata": {},
   "source": [
    "## Quick Sort\n",
    "Quick Sort is a popular and efficient sorting algorithm that uses the divide-and-conquer strategy to sort elements. Here are the main ideas behind Quick Sort, along with a Python implementation:\n",
    "\n",
    "### Main Ideas\n",
    "\n",
    "1. **Divide-and-Conquer**: Quick Sort divides the array into subarrays and sorts each subarray independently.\n",
    "2. **Pivot Selection**: A pivot element is chosen from the array. The pivot can be any element, but common choices are the first element, the last element, the middle element, or a random element.\n",
    "3. **Partitioning**: The array is rearranged so that all elements less than the pivot come before it, and all elements greater than the pivot come after it. This places the pivot in its correct sorted position.\n",
    "4. **Recursion**: The same process is recursively applied to the subarrays formed by dividing the array at the pivot.\n",
    "\n",
    "### Steps of Quick Sort\n",
    "\n",
    "1. **Choose a Pivot**: Select an element from the array as the pivot.\n",
    "2. **Partition**: Rearrange the elements in the array so that elements less than the pivot are on the left, elements greater than the pivot are on the right.\n",
    "3. **Recursively Apply**: Apply the same process to the left and right subarrays.\n",
    "\n",
    "### Python Implementation\n",
    "\n",
    "Here is a step-by-step Python implementation of Quick Sort:\n",
    "\n",
    "```python\n",
    "def quick_sort(arr):\n",
    "    # Helper function to perform the partitioning\n",
    "    def partition(low, high):\n",
    "        pivot = arr[high]  # Choosing the last element as pivot\n",
    "        i = low - 1  # Index of smaller element\n",
    "        for j in range(low, high):\n",
    "            # If current element is smaller than or equal to pivot\n",
    "            if arr[j] <= pivot:\n",
    "                i = i + 1\n",
    "                arr[i], arr[j] = arr[j], arr[i]  # Swap\n",
    "        arr[i + 1], arr[high] = arr[high], arr[i + 1]  # Swap pivot element with element at i+1\n",
    "        return i + 1\n",
    "\n",
    "    # Main quicksort function using recursion\n",
    "    def quick_sort_recursive(low, high):\n",
    "        if low < high:\n",
    "            # pi is partitioning index, arr[pi] is now at right place\n",
    "            pi = partition(low, high)\n",
    "            # Recursively sort elements before and after partition\n",
    "            quick_sort_recursive(low, pi - 1)\n",
    "            quick_sort_recursive(pi + 1, high)\n",
    "\n",
    "    # Call the recursive quicksort function on the entire array\n",
    "    quick_sort_recursive(0, len(arr) - 1)\n",
    "\n",
    "# Example usage:\n",
    "arr = [10, 7, 8, 9, 1, 5]\n",
    "quick_sort(arr)\n",
    "print(\"Sorted array is:\", arr)\n",
    "```\n",
    "\n",
    "### Explanation of the Code\n",
    "\n",
    "1. **quick_sort Function**:\n",
    "    - This is the main function that sets up and calls the recursive sort function.\n",
    "\n",
    "2. **partition Function**:\n",
    "    - This function is responsible for partitioning the array. It selects a pivot (in this case, the last element of the array).\n",
    "    - It then rearranges the array such that elements less than or equal to the pivot are on the left and elements greater than the pivot are on the right.\n",
    "    - Finally, it places the pivot in its correct position and returns its index.\n",
    "\n",
    "3. **quick_sort_recursive Function**:\n",
    "    - This is the recursive function that applies Quick Sort to the subarrays.\n",
    "    - It checks if the current subarray has more than one element (`low < high`), and if so, it partitions the array and recursively applies Quick Sort to the subarrays formed by the partitioning.\n",
    "\n",
    "By understanding and using these main ideas and steps, you can implement Quick Sort to efficiently sort arrays in Python."
   ]
  },
  {
   "cell_type": "code",
   "execution_count": 9,
   "metadata": {},
   "outputs": [],
   "source": [
    "def quickSort(data):\n",
    "    def partitioning(first, last):\n",
    "        \n",
    "        # Selecting always the last element as the pivot !\n",
    "        pivot = data[last]\n",
    "        \n",
    "        # i = first - 1 because when data[j] <= pivot, i increases in 1\n",
    "        i = first - 1\n",
    "        # Iterate from first to last element compairing it to pivot\n",
    "        for j in range(first, last):\n",
    "            if data[j] <= pivot:\n",
    "                i += 1\n",
    "                # Swap data[i] with data[j], since data[j] is lesser or equal to pivot\n",
    "                data[i], data[j] = data[j], data[i]\n",
    "\n",
    "        # At the end of the loop, swap the pivot with the data[i + 1] element, guaranteeing the right position for the pivot\n",
    "        data[i + 1], data[last] = data[last], data[i + 1]\n",
    "        \n",
    "        # Return the position for the pivot\n",
    "        return i + 1\n",
    "    \n",
    "    def quickSortRecursive(first, last):\n",
    "        if first < last:\n",
    "            pivot_index = partitioning(first, last)\n",
    "            \n",
    "            # Recursively call the quickSortRecursive without passing the pivot as an element.\n",
    "            quickSortRecursive(first, pivot_index - 1)\n",
    "            quickSortRecursive(pivot_index + 1, last)\n",
    "    \n",
    "    # Enter the recursion\n",
    "    quickSortRecursive(0, len(data) - 1)\n",
    "    \n",
    "    # Return sorted data\n",
    "    return data"
   ]
  },
  {
   "cell_type": "code",
   "execution_count": 10,
   "metadata": {},
   "outputs": [
    {
     "name": "stdout",
     "output_type": "stream",
     "text": [
      "[9, 22, 43, 45, 24, 1, 34, 41, 18, 12, 6, 14, 19, 48, 49, 38, 39, 11, 15, 30, 23, 29, 28, 20, 13, 7, 21, 0, 40, 36, 5, 25, 8, 31, 4, 3, 44, 26, 33, 35, 32, 27, 10, 2, 17, 16, 47, 37, 42, 46]\n",
      "[0, 1, 2, 3, 4, 5, 6, 7, 8, 9, 10, 11, 12, 13, 14, 15, 16, 17, 18, 19, 20, 21, 22, 23, 24, 25, 26, 27, 28, 29, 30, 31, 32, 33, 34, 35, 36, 37, 38, 39, 40, 41, 42, 43, 44, 45, 46, 47, 48, 49]\n"
     ]
    }
   ],
   "source": [
    "data = random.sample(range(50), 50)\n",
    "print(data)\n",
    "data = quickSort(data)\n",
    "print(data)"
   ]
  },
  {
   "cell_type": "markdown",
   "metadata": {},
   "source": [
    "### Quick Sort vs Bubble Sort vs Merge Sort\n",
    "---"
   ]
  },
  {
   "cell_type": "code",
   "execution_count": 11,
   "metadata": {},
   "outputs": [
    {
     "name": "stdout",
     "output_type": "stream",
     "text": [
      "Bubble Sort execution time: 9.94996738 s\n",
      "Merge Sort execution time: 0.03624010 s\n",
      "Quick Sort execution time: 0.01896930 s\n"
     ]
    }
   ],
   "source": [
    "import random\n",
    "import time\n",
    "\n",
    "randomlist = random.sample(range(15000), 15000)\n",
    "randomlist2 = randomlist.copy()\n",
    "randomlist3 = randomlist.copy()\n",
    "\n",
    "timenow = time.time()\n",
    "randomlist = bubble_sort(randomlist)\n",
    "print(f\"Bubble Sort execution time: {time.time() - timenow:.8f} s\")\n",
    "\n",
    "timenow = time.time()\n",
    "randomlist2 =mergeSort(randomlist2)\n",
    "print(f\"Merge Sort execution time: {time.time() - timenow:.8f} s\")\n",
    "\n",
    "timenow = time.time()\n",
    "randomlist3 =quickSort(randomlist3)\n",
    "print(f\"Quick Sort execution time: {time.time() - timenow:.8f} s\")"
   ]
  },
  {
   "cell_type": "code",
   "execution_count": null,
   "metadata": {},
   "outputs": [],
   "source": []
  }
 ],
 "metadata": {
  "kernelspec": {
   "display_name": "Python 3",
   "language": "python",
   "name": "python3"
  },
  "language_info": {
   "codemirror_mode": {
    "name": "ipython",
    "version": 3
   },
   "file_extension": ".py",
   "mimetype": "text/x-python",
   "name": "python",
   "nbconvert_exporter": "python",
   "pygments_lexer": "ipython3",
   "version": "3.10.9"
  }
 },
 "nbformat": 4,
 "nbformat_minor": 2
}
